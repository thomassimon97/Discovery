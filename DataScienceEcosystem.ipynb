{
 "cells": [
  {
   "cell_type": "markdown",
   "id": "0a1a9c3f-b06f-42a9-836c-18150aebf2da",
   "metadata": {},
   "source": [
    "# Data Science Tools and Ecosystem"
   ]
  },
  {
   "cell_type": "markdown",
   "id": "ed82821c-05da-4de4-886d-c3e917e292da",
   "metadata": {},
   "source": [
    "In this notebook, Data Science Tools and Ecosystem are summarized."
   ]
  },
  {
   "cell_type": "markdown",
   "id": "c028d7f3-bad9-46fb-981e-228c482b8b18",
   "metadata": {},
   "source": [
    "**Objectives :**\n",
    "- List popular languages for Data Science\n",
    "- List popular tools for Data Science\n",
    "- List populair librairies for Data Science"
   ]
  },
  {
   "cell_type": "markdown",
   "id": "7e0082ea-548f-4ac9-b7c9-b76b336a67a3",
   "metadata": {},
   "source": [
    "Some of the popular languages that Data Scientists use are:\n",
    "1. Python\n",
    "2. R\n",
    "3. SQL"
   ]
  },
  {
   "cell_type": "markdown",
   "id": "c74d6db4-c7f1-481b-87c9-60446f8cad2b",
   "metadata": {},
   "source": [
    "Some of the commonly used libraries used by Data Scientists include:\n",
    "\n",
    "1. Pandas\n",
    "2. Numpy\n",
    "3. Matplotlib"
   ]
  },
  {
   "cell_type": "markdown",
   "id": "f6a40f4f-c124-451b-88f0-c180d1f6d544",
   "metadata": {},
   "source": [
    "|Data Science Tools|\n",
    "|------------------|\n",
    "|Anaconda|\n",
    "|GitHub|\n",
    "|RStudio|"
   ]
  },
  {
   "cell_type": "markdown",
   "id": "3c1bccf9-006b-4b5b-868a-55b5d8633284",
   "metadata": {},
   "source": [
    "### Below are a few examples of evaluating arithmetic expressions in Python :"
   ]
  },
  {
   "cell_type": "code",
   "execution_count": 1,
   "id": "97a6d1e2-1a28-477e-a7fa-d5336be0c9ea",
   "metadata": {},
   "outputs": [
    {
     "data": {
      "text/plain": [
       "17"
      ]
     },
     "execution_count": 1,
     "metadata": {},
     "output_type": "execute_result"
    }
   ],
   "source": [
    "#This a simple arithmetic expression to mutiply then add integers\n",
    "(3*4)+5"
   ]
  },
  {
   "cell_type": "code",
   "execution_count": 2,
   "id": "508c5d5f-df0c-4f97-833b-e8da432cdefd",
   "metadata": {},
   "outputs": [
    {
     "name": "stdout",
     "output_type": "stream",
     "text": [
      "3.3333333333333335\n"
     ]
    }
   ],
   "source": [
    "#This will convert 200 minutes to hours by diving by 60\n",
    "minutes = 200\n",
    "hours = 200/60\n",
    "print(hours)"
   ]
  },
  {
   "cell_type": "markdown",
   "id": "fd0766d9-5cc7-424c-81ac-8f37fc028f59",
   "metadata": {},
   "source": [
    "## Author\n",
    "Thomas Simon"
   ]
  },
  {
   "cell_type": "code",
   "execution_count": null,
   "id": "0f628b9f-85a8-4685-89b4-fb86263c1f10",
   "metadata": {},
   "outputs": [],
   "source": []
  }
 ],
 "metadata": {
  "kernelspec": {
   "display_name": "Python 3 (ipykernel)",
   "language": "python",
   "name": "python3"
  },
  "language_info": {
   "codemirror_mode": {
    "name": "ipython",
    "version": 3
   },
   "file_extension": ".py",
   "mimetype": "text/x-python",
   "name": "python",
   "nbconvert_exporter": "python",
   "pygments_lexer": "ipython3",
   "version": "3.11.7"
  }
 },
 "nbformat": 4,
 "nbformat_minor": 5
}
